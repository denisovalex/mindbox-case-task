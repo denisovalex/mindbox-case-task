{
  "nbformat": 4,
  "nbformat_minor": 0,
  "metadata": {
    "colab": {
      "provenance": []
    },
    "kernelspec": {
      "name": "python3",
      "display_name": "Python 3"
    },
    "language_info": {
      "name": "python"
    }
  },
  "cells": [
    {
      "cell_type": "code",
      "source": [
        "!pip install pyspark==3.0.1 py4j==0.10.9"
      ],
      "metadata": {
        "colab": {
          "base_uri": "https://localhost:8080/"
        },
        "collapsed": true,
        "id": "6ZkZ4oDCB7vI",
        "outputId": "23d317e9-5537-4dd1-a589-cbc7bfc216b4"
      },
      "execution_count": 1,
      "outputs": [
        {
          "output_type": "stream",
          "name": "stdout",
          "text": [
            "Requirement already satisfied: pyspark==3.0.1 in /usr/local/lib/python3.10/dist-packages (3.0.1)\n",
            "Requirement already satisfied: py4j==0.10.9 in /usr/local/lib/python3.10/dist-packages (0.10.9)\n"
          ]
        }
      ]
    },
    {
      "cell_type": "markdown",
      "source": [
        "PySpark-приложение с заданными датафреймами продуктов, категорий и их связей:"
      ],
      "metadata": {
        "id": "DQMCt-l_Gmp9"
      }
    },
    {
      "cell_type": "code",
      "execution_count": 2,
      "metadata": {
        "colab": {
          "base_uri": "https://localhost:8080/"
        },
        "collapsed": true,
        "id": "slRdmasQ_hew",
        "outputId": "804c1711-8059-4ae1-b0b7-469f9d7c7249"
      },
      "outputs": [
        {
          "output_type": "stream",
          "name": "stdout",
          "text": [
            "+----------+------------+\n",
            "|product_id|product_name|\n",
            "+----------+------------+\n",
            "|         1|   Product A|\n",
            "|         2|   Product B|\n",
            "|         3|   Product C|\n",
            "+----------+------------+\n",
            "\n",
            "+-----------+-------------+\n",
            "|category_id|category_name|\n",
            "+-----------+-------------+\n",
            "|          1|   Category X|\n",
            "|          2|   Category Y|\n",
            "+-----------+-------------+\n",
            "\n",
            "+----------+-----------+\n",
            "|product_id|category_id|\n",
            "+----------+-----------+\n",
            "|         1|          1|\n",
            "|         1|          2|\n",
            "|         2|          1|\n",
            "+----------+-----------+\n",
            "\n"
          ]
        }
      ],
      "source": [
        "from pyspark.sql import SparkSession\n",
        "\n",
        "spark = SparkSession.builder \\\n",
        "    .appName(\"ProductCategoryApp\") \\\n",
        "    .getOrCreate()\n",
        "\n",
        "products_data = [(1, 'Product A'), (2, 'Product B'), (3, 'Product C')]\n",
        "categories_data = [(1, 'Category X'), (2, 'Category Y')]\n",
        "product_category_data = [(1, 1), (1, 2), (2, 1)]\n",
        "\n",
        "products_df = spark.createDataFrame(products_data, ['product_id', 'product_name'])\n",
        "products_df.show()\n",
        "\n",
        "categories_df = spark.createDataFrame(categories_data, ['category_id', 'category_name'])\n",
        "categories_df.show()\n",
        "\n",
        "product_category_df = spark.createDataFrame(product_category_data, ['product_id', 'category_id'])\n",
        "product_category_df.show()"
      ]
    },
    {
      "cell_type": "markdown",
      "source": [
        "Вызов метода, возвращающего все пары «Имя продукта – Имя категории»:"
      ],
      "metadata": {
        "id": "IzfF-HXEHU1W"
      }
    },
    {
      "cell_type": "code",
      "source": [
        "from utils import get_pairs\n",
        "\n",
        "product_category_pairs = get_pairs(products_df, categories_df, product_category_df)\n",
        "product_category_pairs.show()"
      ],
      "metadata": {
        "colab": {
          "base_uri": "https://localhost:8080/"
        },
        "id": "Q2fFk1rLB0lZ",
        "outputId": "a3b95f36-6900-4de6-9386-77d2a416982e"
      },
      "execution_count": 3,
      "outputs": [
        {
          "output_type": "stream",
          "name": "stdout",
          "text": [
            "+------------+-------------+\n",
            "|product_name|category_name|\n",
            "+------------+-------------+\n",
            "|   Product A|   Category X|\n",
            "|   Product B|   Category X|\n",
            "|   Product A|   Category Y|\n",
            "+------------+-------------+\n",
            "\n"
          ]
        }
      ]
    },
    {
      "cell_type": "markdown",
      "source": [
        "Вызов метода, возвращающего все продукты, у которых нет категорий:"
      ],
      "metadata": {
        "id": "LCsNtWI1JaDQ"
      }
    },
    {
      "cell_type": "code",
      "source": [
        "from utils import get_products_without_categories\n",
        "\n",
        "products_without_categories = get_products_without_categories(products_df, product_category_df)\n",
        "products_without_categories.show()"
      ],
      "metadata": {
        "colab": {
          "base_uri": "https://localhost:8080/"
        },
        "id": "YXrgGAu9JgBb",
        "outputId": "45fa5399-4e9c-4b5f-9dca-bc951b4365e1"
      },
      "execution_count": 4,
      "outputs": [
        {
          "output_type": "stream",
          "name": "stdout",
          "text": [
            "+----------+------------+\n",
            "|product_id|product_name|\n",
            "+----------+------------+\n",
            "|         3|   Product C|\n",
            "+----------+------------+\n",
            "\n"
          ]
        }
      ]
    }
  ]
}